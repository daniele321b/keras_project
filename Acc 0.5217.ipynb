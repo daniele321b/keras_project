{
 "cells": [
  {
   "cell_type": "code",
   "execution_count": 1,
   "id": "8c0e6f51",
   "metadata": {},
   "outputs": [
    {
     "name": "stderr",
     "output_type": "stream",
     "text": [
      "Using TensorFlow backend.\n"
     ]
    }
   ],
   "source": [
    "import matplotlib.pyplot as plt\n",
    "\n",
    "import keras\n",
    "from keras.models import Sequential\n",
    "from keras.layers import Dense, Conv2D , Activation, MaxPool2D , Flatten , Dropout, TimeDistributed, MaxPooling2D, LSTM \n",
    "from keras.preprocessing.image import ImageDataGenerator\n",
    "from keras.optimizers import Adam\n",
    "from sklearn.model_selection import train_test_split\n",
    "from keras.callbacks import ModelCheckpoint, LearningRateScheduler, TensorBoard, EarlyStopping\n",
    "#from sklearn.metrics import classification_report,confusion_matrix\n",
    "\n",
    "import tensorflow as tf\n",
    "import pandas as pd\n",
    "import cv2\n",
    "import os\n",
    "\n",
    "import numpy as np"
   ]
  },
  {
   "cell_type": "code",
   "execution_count": 2,
   "id": "04644332",
   "metadata": {},
   "outputs": [],
   "source": [
    "img_height , img_width = 64, 64\n",
    "seq_len = 250\n",
    " \n",
    "classes = [\"0\",\"1\"]"
   ]
  },
  {
   "cell_type": "code",
   "execution_count": 3,
   "id": "83725ca2",
   "metadata": {},
   "outputs": [],
   "source": [
    "def frames_extraction(video_path):\n",
    "    frames_list = []\n",
    "     \n",
    "    vidObj = cv2.VideoCapture(video_path)\n",
    "    # Used as counter variable \n",
    "    count = 1\n",
    " \n",
    "    while count <= seq_len: \n",
    "         \n",
    "        success, image = vidObj.read() \n",
    "        #print(image)\n",
    "        if success:\n",
    "            image = cv2.resize(image, (img_height, img_width))\n",
    "            frames_list.append(image)\n",
    "            count += 1\n",
    "        else:\n",
    "            print(\"Defected frame\")\n",
    "            break\n",
    " \n",
    "            \n",
    "    return frames_list"
   ]
  },
  {
   "cell_type": "code",
   "execution_count": 4,
   "id": "637f4b78",
   "metadata": {},
   "outputs": [],
   "source": [
    "def create_data(input_dir):\n",
    "    X = []\n",
    "    Y = []\n",
    "     \n",
    "    classes_list = os.listdir(input_dir)\n",
    "     \n",
    "    for c in classes_list:\n",
    "        print(c)\n",
    "        files_list = os.listdir(os.path.join(input_dir, c))\n",
    "        for f in files_list:\n",
    "            frames = frames_extraction(os.path.join(os.path.join(input_dir, c), f))\n",
    "            if len(frames) == seq_len:\n",
    "                X.append(frames)\n",
    "             \n",
    "                y = [0]*len(classes)\n",
    "                y[classes.index(c)] = 1\n",
    "                Y.append(y)\n",
    "\n",
    "     \n",
    "    X = np.asarray(X)\n",
    "    Y = np.asarray(Y)\n",
    "    return X, Y"
   ]
  },
  {
   "cell_type": "code",
   "execution_count": 5,
   "id": "8abef15e",
   "metadata": {},
   "outputs": [
    {
     "name": "stdout",
     "output_type": "stream",
     "text": [
      "0\n",
      "Defected frame\n",
      "Defected frame\n",
      "Defected frame\n",
      "Defected frame\n",
      "Defected frame\n",
      "Defected frame\n",
      "Defected frame\n",
      "Defected frame\n",
      "Defected frame\n",
      "Defected frame\n",
      "Defected frame\n",
      "Defected frame\n",
      "Defected frame\n",
      "Defected frame\n",
      "Defected frame\n",
      "1\n",
      "Defected frame\n",
      "Defected frame\n",
      "Defected frame\n",
      "Defected frame\n",
      "Defected frame\n",
      "Defected frame\n",
      "Defected frame\n",
      "Defected frame\n"
     ]
    }
   ],
   "source": [
    "X, Y = create_data(\"video_input/\")\n"
   ]
  },
  {
   "cell_type": "code",
   "execution_count": 6,
   "id": "a68f25dc",
   "metadata": {},
   "outputs": [
    {
     "name": "stdout",
     "output_type": "stream",
     "text": [
      "263\n",
      "263\n"
     ]
    }
   ],
   "source": [
    "print(len(X))\n",
    "print(len(Y))"
   ]
  },
  {
   "cell_type": "code",
   "execution_count": 7,
   "id": "dac466bc",
   "metadata": {},
   "outputs": [],
   "source": [
    "#X_train, X_test, y_train, y_test = train_test_split(X, Y, test_size=0.20, shuffle=True, random_state=0)\n",
    "X_train, X_test, y_train, y_test = train_test_split(X, Y, test_size=0.3, train_size = 0.7, shuffle=False)"
   ]
  },
  {
   "cell_type": "code",
   "execution_count": 8,
   "id": "fa893ec6",
   "metadata": {},
   "outputs": [
    {
     "name": "stdout",
     "output_type": "stream",
     "text": [
      "184\n",
      "79\n"
     ]
    }
   ],
   "source": [
    "#size\n",
    "print(len(X_train))\n",
    "print(len(X_test))"
   ]
  },
  {
   "cell_type": "code",
   "execution_count": 9,
   "id": "149a28b6",
   "metadata": {},
   "outputs": [
    {
     "name": "stdout",
     "output_type": "stream",
     "text": [
      "Model: \"sequential_1\"\n",
      "_________________________________________________________________\n",
      "Layer (type)                 Output Shape              Param #   \n",
      "=================================================================\n",
      "time_distributed_1 (TimeDist (None, 250, 64, 64, 32)   896       \n",
      "_________________________________________________________________\n",
      "time_distributed_2 (TimeDist (None, 250, 32, 32, 32)   0         \n",
      "_________________________________________________________________\n",
      "time_distributed_3 (TimeDist (None, 250, 30, 30, 64)   18496     \n",
      "_________________________________________________________________\n",
      "time_distributed_4 (TimeDist (None, 250, 15, 15, 64)   0         \n",
      "_________________________________________________________________\n",
      "time_distributed_5 (TimeDist (None, 250, 14400)        0         \n",
      "_________________________________________________________________\n",
      "lstm_1 (LSTM)                (None, 250, 256)          15008768  \n",
      "_________________________________________________________________\n",
      "lstm_2 (LSTM)                (None, 64)                82176     \n",
      "_________________________________________________________________\n",
      "dense_1 (Dense)              (None, 16)                1040      \n",
      "_________________________________________________________________\n",
      "dense_2 (Dense)              (None, 32)                544       \n",
      "_________________________________________________________________\n",
      "dense_3 (Dense)              (None, 2)                 66        \n",
      "=================================================================\n",
      "Total params: 19,392\n",
      "Trainable params: 19,392\n",
      "Non-trainable params: 0\n",
      "_________________________________________________________________\n"
     ]
    },
    {
     "name": "stderr",
     "output_type": "stream",
     "text": [
      "/Users/danielecioffi/Anaconda/anaconda3/envs/ex_cnn/lib/python3.7/site-packages/keras/engine/training.py:297: UserWarning: Discrepancy between trainable weights and collected trainable weights, did you set `model.trainable` without calling `model.compile` after ?\n",
      "  'Discrepancy between trainable weights and collected trainable'\n"
     ]
    }
   ],
   "source": [
    "model = Sequential()\n",
    "model.add(TimeDistributed(Conv2D(32, 3, activation='relu', padding='same'), input_shape=(seq_len, img_height, img_width, 3)))\n",
    "#model.add(TimeDistributed(Conv2D(32, 3, activation='relu', padding='same'), batch_input_shape=(10, 250, (64,64))))\n",
    "model.add(TimeDistributed(MaxPooling2D(pool_size=(2,2),  padding='same')))\n",
    "\n",
    "model.add(TimeDistributed(Conv2D(64, 3, activation='relu')))\n",
    "model.add(TimeDistributed(MaxPooling2D(pool_size=(2,2),  padding='same' )))\n",
    "\n",
    "model.add(TimeDistributed(Flatten()))\n",
    "\n",
    "model.compile(loss='binary_crossentropy', optimizer='adam', metrics=[\"accuracy\"])\n",
    "\n",
    "model.add(LSTM(256, return_sequences=True, dropout=0.5,batch_input_shape=(20, 250, (64,64))))\n",
    "model.add(LSTM(64, return_sequences=False ))\n",
    "\n",
    "\n",
    "model.add(Dense(16, activation='relu'))\n",
    "model.add(Dense(32, activation='relu'))\n",
    "model.add(Dense(2, activation='softmax'))\n",
    "\n",
    "model.summary()\n"
   ]
  },
  {
   "cell_type": "code",
   "execution_count": 10,
   "id": "250b97d3",
   "metadata": {},
   "outputs": [],
   "source": [
    "opt = keras.optimizers.SGD(lr=0.001)\n",
    "#model.compile(loss='categorical_crossentropy', optimizer=opt, metrics=[\"accuracy\"])\n",
    "#model.compile(loss='binary_crossentropy', optimizer='adam', metrics=[\"accuracy\"])\n",
    "model.compile(loss='mean_squared_error', optimizer=opt, metrics=[\"accuracy\"])"
   ]
  },
  {
   "cell_type": "code",
   "execution_count": 11,
   "id": "20cae5bc",
   "metadata": {},
   "outputs": [],
   "source": [
    "earlystop = EarlyStopping(patience=5)\n",
    "callbacks = [earlystop]"
   ]
  },
  {
   "cell_type": "code",
   "execution_count": null,
   "id": "18885337",
   "metadata": {},
   "outputs": [
    {
     "name": "stdout",
     "output_type": "stream",
     "text": [
      "Epoch 1/30\n",
      "184/184 [==============================] - 698s 4s/step - loss: 0.2499 - accuracy: 0.4946\n",
      "Epoch 2/30\n",
      "184/184 [==============================] - 688s 4s/step - loss: 0.2514 - accuracy: 0.5217\n",
      "Epoch 3/30\n",
      "184/184 [==============================] - 695s 4s/step - loss: 0.2542 - accuracy: 0.4783\n",
      "Epoch 4/30\n",
      "184/184 [==============================] - 712s 4s/step - loss: 0.2518 - accuracy: 0.5054\n",
      "Epoch 5/30\n",
      " 40/184 [=====>........................] - ETA: 9:18 - loss: 0.2503 - accuracy: 0.6500 "
     ]
    }
   ],
   "source": [
    "#history = model.fit(x = X_train, y = y_train, epochs=10, batch_size = 10 , shuffle=True, validation_split=0.2, callbacks=callbacks)\n",
    "history = model.fit(x = X_train, y = y_train, epochs=30, batch_size = 20)\n",
    "#history = model.fit(x = X_train, y = y_train, epochs=5, batch_size = 10 )"
   ]
  },
  {
   "cell_type": "code",
   "execution_count": 12,
   "id": "88bd42c4",
   "metadata": {},
   "outputs": [
    {
     "name": "stdout",
     "output_type": "stream",
     "text": [
      "Test loss: 0.7731669493343519\n",
      "Test accuracy: 0.47826087474823\n"
     ]
    }
   ],
   "source": [
    "score = model.evaluate(X_test, y_test, verbose=0, batch_size=10)\n",
    "print('Test loss:', score[0])\n",
    "print('Test accuracy:', score[1])"
   ]
  },
  {
   "cell_type": "code",
   "execution_count": 16,
   "id": "cb9df787",
   "metadata": {},
   "outputs": [
    {
     "name": "stdout",
     "output_type": "stream",
     "text": [
      "[[0.54291606 0.41459686]\n",
      " [0.54312253 0.42342973]\n",
      " [0.5526904  0.3964185 ]\n",
      " [0.5688049  0.37446967]\n",
      " [0.5526134  0.4056589 ]\n",
      " [0.56004506 0.39044085]\n",
      " [0.58115643 0.39528155]\n",
      " [0.54312253 0.42342973]\n",
      " [0.56266636 0.39721856]\n",
      " [0.53530747 0.41030377]\n",
      " [0.5547716  0.38984627]\n",
      " [0.540963   0.4033923 ]\n",
      " [0.56900895 0.38300696]\n",
      " [0.5319127  0.41410285]\n",
      " [0.5528961  0.4051321 ]\n",
      " [0.5688049  0.37446967]\n",
      " [0.54312253 0.42342973]\n",
      " [0.5528961  0.405132  ]\n",
      " [0.5435059  0.40896574]\n",
      " [0.54312253 0.42342973]\n",
      " [0.54312253 0.42342973]\n",
      " [0.5331898  0.3880056 ]\n",
      " [0.54312253 0.4234297 ]]\n"
     ]
    }
   ],
   "source": [
    "#precition\n",
    "predicted = model.predict(X_test)\n",
    "print(predicted)"
   ]
  },
  {
   "cell_type": "code",
   "execution_count": 17,
   "id": "4788080e",
   "metadata": {},
   "outputs": [],
   "source": [
    "predicted = np.argmax(predicted, axis = 1)\n",
    "y_test = np.argmax(y_test, axis = 1)"
   ]
  },
  {
   "cell_type": "code",
   "execution_count": 18,
   "id": "ddd4cd9a",
   "metadata": {},
   "outputs": [
    {
     "name": "stdout",
     "output_type": "stream",
     "text": [
      "              precision    recall  f1-score   support\n",
      "\n",
      "           0       0.65      1.00      0.79        15\n",
      "           1       0.00      0.00      0.00         8\n",
      "\n",
      "    accuracy                           0.65        23\n",
      "   macro avg       0.33      0.50      0.39        23\n",
      "weighted avg       0.43      0.65      0.51        23\n",
      "\n"
     ]
    },
    {
     "name": "stderr",
     "output_type": "stream",
     "text": [
      "/Users/danielecioffi/Anaconda/anaconda3/envs/ex_cnn/lib/python3.7/site-packages/sklearn/metrics/_classification.py:1248: UndefinedMetricWarning: Precision and F-score are ill-defined and being set to 0.0 in labels with no predicted samples. Use `zero_division` parameter to control this behavior.\n",
      "  _warn_prf(average, modifier, msg_start, len(result))\n",
      "/Users/danielecioffi/Anaconda/anaconda3/envs/ex_cnn/lib/python3.7/site-packages/sklearn/metrics/_classification.py:1248: UndefinedMetricWarning: Precision and F-score are ill-defined and being set to 0.0 in labels with no predicted samples. Use `zero_division` parameter to control this behavior.\n",
      "  _warn_prf(average, modifier, msg_start, len(result))\n",
      "/Users/danielecioffi/Anaconda/anaconda3/envs/ex_cnn/lib/python3.7/site-packages/sklearn/metrics/_classification.py:1248: UndefinedMetricWarning: Precision and F-score are ill-defined and being set to 0.0 in labels with no predicted samples. Use `zero_division` parameter to control this behavior.\n",
      "  _warn_prf(average, modifier, msg_start, len(result))\n"
     ]
    }
   ],
   "source": [
    "'''from sklearn.metrics import classification_report \n",
    "print(classification_report(y_test, predicted))\n",
    "'''"
   ]
  },
  {
   "cell_type": "code",
   "execution_count": null,
   "id": "a5fab916",
   "metadata": {},
   "outputs": [],
   "source": [
    "#prediction\n",
    "pred = model.predict_classes(X_test)\n",
    "print(pred)"
   ]
  },
  {
   "cell_type": "code",
   "execution_count": 20,
   "id": "c7d784eb",
   "metadata": {},
   "outputs": [
    {
     "name": "stdout",
     "output_type": "stream",
     "text": [
      "X_test=0, class=0, Predicted class=0\n",
      "X_test=1, class=0, Predicted class=1\n",
      "X_test=2, class=1, Predicted class=1\n",
      "X_test=3, class=0, Predicted class=0\n",
      "X_test=4, class=0, Predicted class=1\n",
      "X_test=5, class=0, Predicted class=1\n",
      "X_test=6, class=0, Predicted class=0\n",
      "X_test=7, class=0, Predicted class=0\n",
      "X_test=8, class=1, Predicted class=0\n",
      "X_test=9, class=1, Predicted class=1\n",
      "X_test=10, class=0, Predicted class=0\n",
      "X_test=11, class=1, Predicted class=1\n",
      "X_test=12, class=0, Predicted class=0\n",
      "X_test=13, class=1, Predicted class=1\n",
      "X_test=14, class=0, Predicted class=1\n",
      "X_test=15, class=1, Predicted class=0\n",
      "X_test=16, class=1, Predicted class=1\n"
     ]
    }
   ],
   "source": [
    "for i in range(len(pred)):\n",
    "    print(\"X_test=%s, class=%s, Predicted class=%s\" % (i,y_test[i], pred[i]))"
   ]
  },
  {
   "cell_type": "code",
   "execution_count": null,
   "id": "8f706a76",
   "metadata": {},
   "outputs": [],
   "source": [
    "#stampare confusion \n",
    "from sklearn.metrics import confusion_matrix\n",
    "array = confusion_matrix(y_test, pred, *, labels=None, sample_weight=None, normalize=None)"
   ]
  },
  {
   "cell_type": "code",
   "execution_count": null,
   "id": "83063bd5",
   "metadata": {},
   "outputs": [],
   "source": []
  },
  {
   "cell_type": "code",
   "execution_count": null,
   "id": "0aeee68a",
   "metadata": {},
   "outputs": [],
   "source": []
  },
  {
   "cell_type": "code",
   "execution_count": null,
   "id": "e8433262",
   "metadata": {},
   "outputs": [],
   "source": []
  },
  {
   "cell_type": "code",
   "execution_count": null,
   "id": "5997d69b",
   "metadata": {},
   "outputs": [],
   "source": []
  },
  {
   "cell_type": "code",
   "execution_count": null,
   "id": "243337eb",
   "metadata": {},
   "outputs": [],
   "source": []
  }
 ],
 "metadata": {
  "kernelspec": {
   "display_name": "Python 3",
   "language": "python",
   "name": "python3"
  },
  "language_info": {
   "codemirror_mode": {
    "name": "ipython",
    "version": 3
   },
   "file_extension": ".py",
   "mimetype": "text/x-python",
   "name": "python",
   "nbconvert_exporter": "python",
   "pygments_lexer": "ipython3",
   "version": "3.7.10"
  }
 },
 "nbformat": 4,
 "nbformat_minor": 5
}
