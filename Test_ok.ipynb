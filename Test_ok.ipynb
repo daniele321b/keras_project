{
 "cells": [
  {
   "cell_type": "code",
   "execution_count": 1,
   "id": "8c0e6f51",
   "metadata": {},
   "outputs": [
    {
     "name": "stderr",
     "output_type": "stream",
     "text": [
      "Using TensorFlow backend.\n"
     ]
    }
   ],
   "source": [
    "import matplotlib.pyplot as plt\n",
    "\n",
    "import keras\n",
    "from keras.models import Sequential\n",
    "from keras.layers import Dense, Conv2D , MaxPool2D , Flatten , Dropout, TimeDistributed, MaxPooling2D, LSTM \n",
    "from keras.preprocessing.image import ImageDataGenerator\n",
    "from keras.optimizers import Adam\n",
    "from sklearn.model_selection import train_test_split\n",
    "from keras.callbacks import ModelCheckpoint, LearningRateScheduler, TensorBoard, EarlyStopping\n",
    "#from sklearn.metrics import classification_report,confusion_matrix\n",
    "\n",
    "import tensorflow as tf\n",
    "import pandas as pd\n",
    "import cv2\n",
    "import os\n",
    "\n",
    "import numpy as np"
   ]
  },
  {
   "cell_type": "code",
   "execution_count": 2,
   "id": "04644332",
   "metadata": {},
   "outputs": [],
   "source": [
    "img_height , img_width = 64, 64\n",
    "seq_len = 250\n",
    " \n",
    "classes = [\"0\",\"1\"]"
   ]
  },
  {
   "cell_type": "code",
   "execution_count": 3,
   "id": "83725ca2",
   "metadata": {},
   "outputs": [],
   "source": [
    "def frames_extraction(video_path):\n",
    "    frames_list = []\n",
    "     \n",
    "    vidObj = cv2.VideoCapture(video_path)\n",
    "    # Used as counter variable \n",
    "    count = 1\n",
    " \n",
    "    while count <= seq_len: \n",
    "         \n",
    "        success, image = vidObj.read() \n",
    "        if success:\n",
    "            image = cv2.resize(image, (img_height, img_width))\n",
    "            frames_list.append(image)\n",
    "            count += 1\n",
    "        else:\n",
    "            print(\"Defected frame\")\n",
    "            break\n",
    " \n",
    "            \n",
    "    return frames_list"
   ]
  },
  {
   "cell_type": "code",
   "execution_count": 4,
   "id": "637f4b78",
   "metadata": {},
   "outputs": [],
   "source": [
    "def create_data(input_dir):\n",
    "    X = []\n",
    "    Y = []\n",
    "     \n",
    "    classes_list = os.listdir(input_dir)\n",
    "     \n",
    "    for c in classes_list:\n",
    "        print(c)\n",
    "        files_list = os.listdir(os.path.join(input_dir, c))\n",
    "        for f in files_list:\n",
    "            frames = frames_extraction(os.path.join(os.path.join(input_dir, c), f))\n",
    "            if len(frames) == seq_len:\n",
    "                X.append(frames)\n",
    "             \n",
    "                y = [0]*len(classes)\n",
    "                y[classes.index(c)] = 1\n",
    "                Y.append(y)\n",
    "     \n",
    "    X = np.asarray(X)\n",
    "    Y = np.asarray(Y)\n",
    "    return X, Y"
   ]
  },
  {
   "cell_type": "code",
   "execution_count": 7,
   "id": "8abef15e",
   "metadata": {},
   "outputs": [
    {
     "name": "stdout",
     "output_type": "stream",
     "text": [
      "0\n",
      "Defected frame\n",
      "Defected frame\n",
      "Defected frame\n",
      "Defected frame\n",
      "Defected frame\n",
      "Defected frame\n",
      "Defected frame\n",
      "1\n",
      "Defected frame\n",
      "Defected frame\n"
     ]
    }
   ],
   "source": [
    "X, Y = create_data(\"video_input/\")\n"
   ]
  },
  {
   "cell_type": "code",
   "execution_count": 8,
   "id": "dac466bc",
   "metadata": {},
   "outputs": [],
   "source": [
    "X_train, X_test, y_train, y_test = train_test_split(X, Y, test_size=0.20, shuffle=True, random_state=0)"
   ]
  },
  {
   "cell_type": "code",
   "execution_count": 9,
   "id": "149a28b6",
   "metadata": {},
   "outputs": [
    {
     "name": "stdout",
     "output_type": "stream",
     "text": [
      "Model: \"sequential_1\"\n",
      "_________________________________________________________________\n",
      "Layer (type)                 Output Shape              Param #   \n",
      "=================================================================\n",
      "time_distributed_1 (TimeDist (None, 250, 64, 64, 64)   4864      \n",
      "_________________________________________________________________\n",
      "time_distributed_2 (TimeDist (None, 250, 32, 32, 64)   0         \n",
      "_________________________________________________________________\n",
      "time_distributed_3 (TimeDist (None, 250, 28, 28, 128)  204928    \n",
      "_________________________________________________________________\n",
      "time_distributed_4 (TimeDist (None, 250, 14, 14, 128)  0         \n",
      "_________________________________________________________________\n",
      "time_distributed_5 (TimeDist (None, 250, 10, 10, 256)  819456    \n",
      "_________________________________________________________________\n",
      "time_distributed_6 (TimeDist (None, 250, 5, 5, 256)    0         \n",
      "_________________________________________________________________\n",
      "time_distributed_7 (TimeDist (None, 250, 6400)         0         \n",
      "_________________________________________________________________\n",
      "dropout_1 (Dropout)          (None, 250, 6400)         0         \n",
      "_________________________________________________________________\n",
      "lstm_1 (LSTM)                (None, 256)               6816768   \n",
      "_________________________________________________________________\n",
      "dense_1 (Dense)              (None, 2)                 514       \n",
      "=================================================================\n",
      "Total params: 7,846,530\n",
      "Trainable params: 7,846,530\n",
      "Non-trainable params: 0\n",
      "_________________________________________________________________\n"
     ]
    }
   ],
   "source": [
    "model = Sequential()\n",
    "model.add(TimeDistributed(Conv2D(64, 5, activation='relu', padding='same', name='conv1'), input_shape=(seq_len, img_height, img_width, 3)))\n",
    "model.add(TimeDistributed(MaxPooling2D(pool_size=(2,2), strides=(2,2), padding='same', name='pool1')))\n",
    "\n",
    "model.add(TimeDistributed(Conv2D(128, 5, activation='relu', name='conv2')))\n",
    "model.add(TimeDistributed(MaxPooling2D(pool_size=(2,2), strides=(2,2), name='pool2')))\n",
    "\n",
    "model.add(TimeDistributed(Conv2D(256, 5, activation='relu', name='conv3')))\n",
    "model.add(TimeDistributed(MaxPooling2D(pool_size=(2,2), strides=(2,2), name='pool3')))\n",
    "\n",
    "model.add(TimeDistributed(Flatten()))\n",
    "model.add(Dropout(0.5))\n",
    "\n",
    "model.add(LSTM(256, return_sequences=False, dropout=0.5))\n",
    "model.add(Dense(2, activation='sigmoid'))\n",
    "\n",
    "model.summary()\n"
   ]
  },
  {
   "cell_type": "code",
   "execution_count": 10,
   "id": "250b97d3",
   "metadata": {},
   "outputs": [],
   "source": [
    "opt = keras.optimizers.SGD(lr=0.001)\n",
    "model.compile(loss='categorical_crossentropy', optimizer=opt, metrics=[\"accuracy\"])"
   ]
  },
  {
   "cell_type": "code",
   "execution_count": 11,
   "id": "20cae5bc",
   "metadata": {},
   "outputs": [],
   "source": [
    "earlystop = EarlyStopping(patience=7)\n",
    "callbacks = [earlystop]"
   ]
  },
  {
   "cell_type": "code",
   "execution_count": 12,
   "id": "18885337",
   "metadata": {},
   "outputs": [
    {
     "name": "stdout",
     "output_type": "stream",
     "text": [
      "Train on 52 samples, validate on 13 samples\n",
      "Epoch 1/2\n",
      "52/52 [==============================] - 852s 16s/step - loss: 0.7803 - accuracy: 0.4615 - val_loss: 0.6719 - val_accuracy: 0.5385\n",
      "Epoch 2/2\n",
      "52/52 [==============================] - 861s 17s/step - loss: 0.6556 - accuracy: 0.5769 - val_loss: 0.7345 - val_accuracy: 0.2308\n"
     ]
    }
   ],
   "source": [
    "history = model.fit(x = X_train, y = y_train, epochs=2, batch_size = 1 , shuffle=True, validation_split=0.2, callbacks=callbacks)"
   ]
  },
  {
   "cell_type": "code",
   "execution_count": 13,
   "id": "d941c14a",
   "metadata": {},
   "outputs": [],
   "source": [
    "acc = history.history['accuracy']\n",
    "val_acc = history.history['val_accuracy']\n",
    "loss = history.history['loss']\n",
    "val_loss = history.history['val_loss']\n",
    "\n",
    "epochs_range = range(2)\n"
   ]
  },
  {
   "cell_type": "code",
   "execution_count": 14,
   "id": "3ae0e877",
   "metadata": {},
   "outputs": [
    {
     "data": {
      "image/png": "[encoded data removed]",
      "text/plain": [
       "<Figure size 1080x1080 with 2 Axes>"
      ]
     },
     "metadata": {
      "needs_background": "light"
     },
     "output_type": "display_data"
    }
   ],
   "source": [
    "plt.figure(figsize=(15, 15))\n",
    "plt.subplot(2, 2, 1)\n",
    "plt.plot(epochs_range, acc, label='Training Accuracy')\n",
    "plt.plot(epochs_range, val_acc, label='Validation Accuracy')\n",
    "plt.legend(loc='lower right')\n",
    "plt.title('Training and Validation Accuracy')\n",
    "\n",
    "plt.subplot(2, 2, 2)\n",
    "plt.plot(epochs_range, loss, label='Training Loss')\n",
    "plt.plot(epochs_range, val_loss, label='Validation Loss')\n",
    "plt.legend(loc='upper right')\n",
    "plt.title('Training and Validation Loss')\n",
    "plt.show()"
   ]
  },
  {
   "cell_type": "code",
   "execution_count": 15,
   "id": "88bd42c4",
   "metadata": {},
   "outputs": [
    {
     "name": "stdout",
     "output_type": "stream",
     "text": [
      "Test loss: 0.6764047636705286\n",
      "Test accuracy: 0.6470588445663452\n"
     ]
    }
   ],
   "source": [
    "score = model.evaluate(X_test, y_test, verbose=0, batch_size=1)\n",
    "print('Test loss:', score[0])\n",
    "print('Test accuracy:', score[1])"
   ]
  },
  {
   "cell_type": "code",
   "execution_count": 16,
   "id": "cb9df787",
   "metadata": {},
   "outputs": [
    {
     "name": "stdout",
     "output_type": "stream",
     "text": [
      "[[0.6498141  0.46104604]\n",
      " [0.5054775  0.50696075]\n",
      " [0.50964785 0.54327923]\n",
      " [0.6139039  0.5792955 ]\n",
      " [0.57701135 0.612034  ]\n",
      " [0.6160323  0.64376783]\n",
      " [0.5034324  0.49812728]\n",
      " [0.5586801  0.5004733 ]\n",
      " [0.57552856 0.53844756]\n",
      " [0.42942095 0.45551428]\n",
      " [0.5545182  0.5057401 ]\n",
      " [0.4947305  0.5577364 ]\n",
      " [0.56228095 0.5101199 ]\n",
      " [0.6644822  0.78707695]\n",
      " [0.55201    0.59563166]\n",
      " [0.5906721  0.46342838]\n",
      " [0.49356854 0.49652705]]\n"
     ]
    }
   ],
   "source": [
    "#precition\n",
    "predicted = model.predict(X_test)\n",
    "print(predicted)"
   ]
  },
  {
   "cell_type": "code",
   "execution_count": 17,
   "id": "4788080e",
   "metadata": {},
   "outputs": [],
   "source": [
    "predicted = np.argmax(predicted, axis = 1)\n",
    "y_test = np.argmax(y_test, axis = 1)"
   ]
  },
  {
   "cell_type": "code",
   "execution_count": 18,
   "id": "ddd4cd9a",
   "metadata": {},
   "outputs": [
    {
     "name": "stdout",
     "output_type": "stream",
     "text": [
      "              precision    recall  f1-score   support\n",
      "\n",
      "           0       0.75      0.60      0.67        10\n",
      "           1       0.56      0.71      0.63         7\n",
      "\n",
      "    accuracy                           0.65        17\n",
      "   macro avg       0.65      0.66      0.65        17\n",
      "weighted avg       0.67      0.65      0.65        17\n",
      "\n"
     ]
    }
   ],
   "source": [
    "from sklearn.metrics import classification_report \n",
    "print(classification_report(y_test, predicted))"
   ]
  },
  {
   "cell_type": "code",
   "execution_count": 19,
   "id": "a5fab916",
   "metadata": {},
   "outputs": [
    {
     "name": "stdout",
     "output_type": "stream",
     "text": [
      "[0 1 1 0 1 1 0 0 0 1 0 1 0 1 1 0 1]\n"
     ]
    }
   ],
   "source": [
    "#prediction\n",
    "pred = model.predict_classes(X_test)\n",
    "print(pred)"
   ]
  },
  {
   "cell_type": "code",
   "execution_count": 20,
   "id": "c7d784eb",
   "metadata": {},
   "outputs": [
    {
     "name": "stdout",
     "output_type": "stream",
     "text": [
      "X_test=0, class=0, Predicted class=0\n",
      "X_test=1, class=0, Predicted class=1\n",
      "X_test=2, class=1, Predicted class=1\n",
      "X_test=3, class=0, Predicted class=0\n",
      "X_test=4, class=0, Predicted class=1\n",
      "X_test=5, class=0, Predicted class=1\n",
      "X_test=6, class=0, Predicted class=0\n",
      "X_test=7, class=0, Predicted class=0\n",
      "X_test=8, class=1, Predicted class=0\n",
      "X_test=9, class=1, Predicted class=1\n",
      "X_test=10, class=0, Predicted class=0\n",
      "X_test=11, class=1, Predicted class=1\n",
      "X_test=12, class=0, Predicted class=0\n",
      "X_test=13, class=1, Predicted class=1\n",
      "X_test=14, class=0, Predicted class=1\n",
      "X_test=15, class=1, Predicted class=0\n",
      "X_test=16, class=1, Predicted class=1\n"
     ]
    }
   ],
   "source": [
    "for i in range(len(pred)):\n",
    "    print(\"X_test=%s, class=%s, Predicted class=%s\" % (i,y_test[i], pred[i]))"
   ]
  },
  {
   "cell_type": "code",
   "execution_count": null,
   "id": "8f706a76",
   "metadata": {},
   "outputs": [],
   "source": []
  },
  {
   "cell_type": "code",
   "execution_count": null,
   "id": "83063bd5",
   "metadata": {},
   "outputs": [],
   "source": []
  },
  {
   "cell_type": "code",
   "execution_count": null,
   "id": "0aeee68a",
   "metadata": {},
   "outputs": [],
   "source": []
  },
  {
   "cell_type": "code",
   "execution_count": null,
   "id": "e8433262",
   "metadata": {},
   "outputs": [],
   "source": []
  },
  {
   "cell_type": "code",
   "execution_count": null,
   "id": "5997d69b",
   "metadata": {},
   "outputs": [],
   "source": []
  },
  {
   "cell_type": "code",
   "execution_count": null,
   "id": "243337eb",
   "metadata": {},
   "outputs": [],
   "source": []
  }
 ],
 "metadata": {
  "kernelspec": {
   "display_name": "Python 3",
   "language": "python",
   "name": "python3"
  },
  "language_info": {
   "codemirror_mode": {
    "name": "ipython",
    "version": 3
   },
   "file_extension": ".py",
   "mimetype": "text/x-python",
   "name": "python",
   "nbconvert_exporter": "python",
   "pygments_lexer": "ipython3",
   "version": "3.7.10"
  }
 },
 "nbformat": 4,
 "nbformat_minor": 5
}
